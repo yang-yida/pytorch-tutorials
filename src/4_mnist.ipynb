{
  "nbformat": 4,
  "nbformat_minor": 0,
  "metadata": {
    "colab": {
      "provenance": []
    },
    "kernelspec": {
      "name": "python3",
      "display_name": "Python 3"
    },
    "language_info": {
      "name": "python"
    }
  },
  "cells": [
    {
      "cell_type": "markdown",
      "source": [
        "Ref: https://nextjournal.com/gkoehler/pytorch-mnist"
      ],
      "metadata": {
        "id": "FCB_1gNseaAq"
      }
    },
    {
      "cell_type": "code",
      "execution_count": 2,
      "metadata": {
        "id": "QF-kMKWv8Bsk"
      },
      "outputs": [],
      "source": [
        "import torch\n",
        "import torchvision\n",
        "import torch.nn as nn\n",
        "import torch.nn.functional as F\n",
        "import torch.optim as optim\n",
        "from matplotlib import pyplot as plt"
      ]
    },
    {
      "cell_type": "code",
      "source": [
        "n_epochs = 3\n",
        "# why not the same? Why test so big?\n",
        "batch_size_train = 512\n",
        "batch_size_test = 512*2\n",
        "learning_rate = 0.01\n",
        "#momentum = 0.5\n",
        "# what is this?\n",
        "#log_interval = 10\n",
        "\n",
        "# random_seed = 1\n",
        "# torch.backends.cudnn.enabled = False\n",
        "# torch.manual_seed(random_seed)"
      ],
      "metadata": {
        "id": "4XorMJoU9mSK"
      },
      "execution_count": 3,
      "outputs": []
    },
    {
      "cell_type": "markdown",
      "source": [
        "## Load data"
      ],
      "metadata": {
        "id": "c-2mGJO-vNjW"
      }
    },
    {
      "cell_type": "code",
      "source": [
        "# download and get data\n",
        "train_ds = torchvision.datasets.MNIST('./datasets', train=True, download=True,\n",
        "                             transform=torchvision.transforms.Compose([torchvision.transforms.ToTensor(),\n",
        "                               torchvision.transforms.Normalize((0.1307,), (0.3081,))]))\n",
        "test_ds = torchvision.datasets.MNIST('./datasets', train=False, download=True,\n",
        "                             transform=torchvision.transforms.Compose([torchvision.transforms.ToTensor(),\n",
        "                               torchvision.transforms.Normalize((0.1307,), (0.3081,))]))\n",
        "# load data to dataloader\n",
        "train_loader = torch.utils.data.DataLoader(train_ds, batch_size=batch_size_train, shuffle=True)\n",
        "test_loader = torch.utils.data.DataLoader(test_ds, batch_size=batch_size_test, shuffle=True)"
      ],
      "metadata": {
        "colab": {
          "base_uri": "https://localhost:8080/"
        },
        "id": "j2qyFPxYNG_X",
        "outputId": "a8bb5340-72b5-4818-b03f-db11a0b6c826"
      },
      "execution_count": 4,
      "outputs": [
        {
          "output_type": "stream",
          "name": "stdout",
          "text": [
            "Downloading http://yann.lecun.com/exdb/mnist/train-images-idx3-ubyte.gz\n",
            "Downloading http://yann.lecun.com/exdb/mnist/train-images-idx3-ubyte.gz to ./datasets/MNIST/raw/train-images-idx3-ubyte.gz\n"
          ]
        },
        {
          "output_type": "stream",
          "name": "stderr",
          "text": [
            "100%|██████████| 9912422/9912422 [00:00<00:00, 117824280.44it/s]\n"
          ]
        },
        {
          "output_type": "stream",
          "name": "stdout",
          "text": [
            "Extracting ./datasets/MNIST/raw/train-images-idx3-ubyte.gz to ./datasets/MNIST/raw\n",
            "\n",
            "Downloading http://yann.lecun.com/exdb/mnist/train-labels-idx1-ubyte.gz\n",
            "Downloading http://yann.lecun.com/exdb/mnist/train-labels-idx1-ubyte.gz to ./datasets/MNIST/raw/train-labels-idx1-ubyte.gz\n"
          ]
        },
        {
          "output_type": "stream",
          "name": "stderr",
          "text": [
            "100%|██████████| 28881/28881 [00:00<00:00, 27480874.28it/s]\n"
          ]
        },
        {
          "output_type": "stream",
          "name": "stdout",
          "text": [
            "Extracting ./datasets/MNIST/raw/train-labels-idx1-ubyte.gz to ./datasets/MNIST/raw\n",
            "\n",
            "Downloading http://yann.lecun.com/exdb/mnist/t10k-images-idx3-ubyte.gz\n",
            "Downloading http://yann.lecun.com/exdb/mnist/t10k-images-idx3-ubyte.gz to ./datasets/MNIST/raw/t10k-images-idx3-ubyte.gz\n"
          ]
        },
        {
          "output_type": "stream",
          "name": "stderr",
          "text": [
            "100%|██████████| 1648877/1648877 [00:00<00:00, 30411553.57it/s]\n"
          ]
        },
        {
          "output_type": "stream",
          "name": "stdout",
          "text": [
            "Extracting ./datasets/MNIST/raw/t10k-images-idx3-ubyte.gz to ./datasets/MNIST/raw\n",
            "\n",
            "Downloading http://yann.lecun.com/exdb/mnist/t10k-labels-idx1-ubyte.gz\n",
            "Downloading http://yann.lecun.com/exdb/mnist/t10k-labels-idx1-ubyte.gz to ./datasets/MNIST/raw/t10k-labels-idx1-ubyte.gz\n"
          ]
        },
        {
          "output_type": "stream",
          "name": "stderr",
          "text": [
            "100%|██████████| 4542/4542 [00:00<00:00, 4220320.95it/s]"
          ]
        },
        {
          "output_type": "stream",
          "name": "stdout",
          "text": [
            "Extracting ./datasets/MNIST/raw/t10k-labels-idx1-ubyte.gz to ./datasets/MNIST/raw\n",
            "\n"
          ]
        },
        {
          "output_type": "stream",
          "name": "stderr",
          "text": [
            "\n"
          ]
        }
      ]
    },
    {
      "cell_type": "code",
      "source": [
        "# x is input, y is label\n",
        "x, y = next(iter(train_loader))\n",
        "print(x.shape, y.shape, x.min(), x.max())"
      ],
      "metadata": {
        "colab": {
          "base_uri": "https://localhost:8080/"
        },
        "id": "rdfyvdlLUlbO",
        "outputId": "933c9819-2b90-457c-a09c-ce3b3cf0d415"
      },
      "execution_count": 5,
      "outputs": [
        {
          "output_type": "stream",
          "name": "stdout",
          "text": [
            "torch.Size([512, 1, 28, 28]) torch.Size([512]) tensor(-0.4242) tensor(2.8215)\n"
          ]
        }
      ]
    },
    {
      "cell_type": "code",
      "source": [
        "type(x)"
      ],
      "metadata": {
        "colab": {
          "base_uri": "https://localhost:8080/"
        },
        "id": "wCc3bZSB28N0",
        "outputId": "7e810c44-5d4e-4fd4-d13d-bfc6cfd00eef"
      },
      "execution_count": 6,
      "outputs": [
        {
          "output_type": "execute_result",
          "data": {
            "text/plain": [
              "torch.Tensor"
            ]
          },
          "metadata": {},
          "execution_count": 6
        }
      ]
    },
    {
      "cell_type": "code",
      "source": [
        "# the number of batches\n",
        "len(train_loader)"
      ],
      "metadata": {
        "colab": {
          "base_uri": "https://localhost:8080/"
        },
        "id": "YK_m27iCV_pl",
        "outputId": "55c444c0-6eb5-40f2-cc8d-85f60079f75d"
      },
      "execution_count": 7,
      "outputs": [
        {
          "output_type": "execute_result",
          "data": {
            "text/plain": [
              "118"
            ]
          },
          "metadata": {},
          "execution_count": 7
        }
      ]
    },
    {
      "cell_type": "code",
      "source": [
        "# train_loader is a DataLoader object, containing 938 'sub-object' which are iterable. Note: 60000 images in total. 60000//64 = 938!\n",
        "# Each 'sub-obj' consists of 2 torch.Tensor objects: [inputs, labels].\n",
        "# Inputs are 64*1*28*28, labels are 1d vector, len = 64."
      ],
      "metadata": {
        "id": "dUj4U7UsnfLP"
      },
      "execution_count": 8,
      "outputs": []
    },
    {
      "cell_type": "markdown",
      "source": [
        "## utils"
      ],
      "metadata": {
        "id": "D1gRpjN46mYn"
      }
    },
    {
      "cell_type": "code",
      "source": [
        "def plot_curve(data):\n",
        "    fig = plt.figure()\n",
        "    plt.plot(range(len(data)), data, color='blue')\n",
        "    plt.legend(['value'], loc='upper right')\n",
        "    plt.xlabel('step')\n",
        "    plt.ylabel('value')\n",
        "    plt.show()\n",
        "\n",
        "\n",
        "\n",
        "def plot_image(img, label, name):\n",
        "\n",
        "    fig = plt.figure()\n",
        "    for i in range(6):\n",
        "        plt.subplot(2, 3, i + 1)\n",
        "        plt.tight_layout()\n",
        "        plt.imshow(img[i][0]*0.3081+0.1307, cmap='gray', interpolation='none')\n",
        "        plt.title(\"{}: {}\".format(name, label[i].item()))\n",
        "        plt.xticks([])\n",
        "        plt.yticks([])\n",
        "    plt.show()\n",
        "\n",
        "\n",
        "def one_hot(label, depth=10):\n",
        "    out = torch.zeros(label.size(0), depth)\n",
        "    idx = torch.LongTensor(label).view(-1, 1)\n",
        "    # scatter don't know...\n",
        "    out.scatter_(dim=1, index=idx, value=1)\n",
        "    return out"
      ],
      "metadata": {
        "id": "dgVfg-GQ6ohJ"
      },
      "execution_count": 9,
      "outputs": []
    },
    {
      "cell_type": "markdown",
      "source": [
        "## Visualized data"
      ],
      "metadata": {
        "id": "eqNF9v8jvQjQ"
      }
    },
    {
      "cell_type": "markdown",
      "source": [
        "Currently didn't fully understand..."
      ],
      "metadata": {
        "id": "5FQowc-vvTgC"
      }
    },
    {
      "cell_type": "code",
      "source": [
        "x, y = next(iter(train_loader))\n",
        "print(x.shape, y.shape, x.min(), x.max())\n",
        "plot_image(x, y, 'image sample')"
      ],
      "metadata": {
        "id": "-hDpdscrtFYI",
        "colab": {
          "base_uri": "https://localhost:8080/",
          "height": 456
        },
        "outputId": "da1085a7-a652-48ba-cb83-7f10ccd1efee"
      },
      "execution_count": 10,
      "outputs": [
        {
          "output_type": "stream",
          "name": "stdout",
          "text": [
            "torch.Size([512, 1, 28, 28]) torch.Size([512]) tensor(-0.4242) tensor(2.8215)\n"
          ]
        },
        {
          "output_type": "display_data",
          "data": {
            "text/plain": [
              "<Figure size 640x480 with 6 Axes>"
            ],
            "image/png": "[encoded data removed]"
          },
          "metadata": {}
        }
      ]
    },
    {
      "cell_type": "markdown",
      "source": [
        "## Build network"
      ],
      "metadata": {
        "id": "IDLTdPSN64mP"
      }
    },
    {
      "cell_type": "code",
      "source": [
        "class Net(nn.Module):\n",
        "\n",
        "    def __init__(self):\n",
        "        super(Net, self).__init__()\n",
        "\n",
        "        # xw+b\n",
        "        self.fc1 = nn.Linear(28*28, 256)\n",
        "        self.fc2 = nn.Linear(256, 64)\n",
        "        self.fc3 = nn.Linear(64, 10)\n",
        "\n",
        "    def forward(self, x):\n",
        "        # x: [b, 1, 28, 28]\n",
        "        # h1 = relu(xw1+b1)\n",
        "        x = F.relu(self.fc1(x))\n",
        "        # h2 = relu(h1w2+b2)\n",
        "        x = F.relu(self.fc2(x))\n",
        "        # h3 = h2w3+b3\n",
        "        x = self.fc3(x)\n",
        "\n",
        "        return x"
      ],
      "metadata": {
        "id": "NzRaF3vpx4ci"
      },
      "execution_count": 11,
      "outputs": []
    },
    {
      "cell_type": "code",
      "source": [
        "network = Net()\n",
        "# parameters: [w1, b1, w2, b2, w3, b3]\n",
        "optimizer = optim.SGD(network.parameters(), lr=0.01, momentum=0.9)"
      ],
      "metadata": {
        "id": "8wTu5hulyAu0"
      },
      "execution_count": 13,
      "outputs": []
    },
    {
      "cell_type": "code",
      "source": [
        "train_loss = []\n",
        "\n",
        "for epoch in range(3):\n",
        "\n",
        "    for batch_idx, (x, y) in enumerate(train_loader):\n",
        "\n",
        "        # x: [batch_size, 1, 28, 28], y: [batch_size]\n",
        "        # [batch_size, 1, 28, 28] => [batch_size, 784]\n",
        "        x = x.reshape(x.size(0), 28*28)\n",
        "        # out(predicted results) shape: [batch_size, 10]\n",
        "        out = network(x)\n",
        "\n",
        "        # labels shape: [batch_size] -> [batch_size, 10]\n",
        "        # one hot makes the shape the same as predicted results!\n",
        "        y_onehot = one_hot(y)\n",
        "        # loss = mse(out, y_onehot)\n",
        "        loss = F.mse_loss(out, y_onehot)\n",
        "        # clear accumulated grad to 0\n",
        "        optimizer.zero_grad()\n",
        "        # backward propogation\n",
        "        loss.backward()\n",
        "        # update parameters: w' = w - lr*grad\n",
        "        optimizer.step()\n",
        "        # record loss\n",
        "        train_loss.append(loss.item())\n",
        "\n",
        "        if batch_idx % 200==0:\n",
        "            print(f\"epoch: {epoch}, batch_idx: {batch_idx}, loss: {loss.item()}\")\n",
        "\n",
        "plot_curve(train_loss)\n",
        "# we get optimal [w1, b1, w2, b2, w3, b3]"
      ],
      "metadata": {
        "colab": {
          "base_uri": "https://localhost:8080/",
          "height": 503
        },
        "id": "pmGysqAWP6jO",
        "outputId": "735576b3-0576-4035-d99d-f02087cc72f2"
      },
      "execution_count": 16,
      "outputs": [
        {
          "output_type": "stream",
          "name": "stdout",
          "text": [
            "epoch: 0, batch_idx: 0, loss: 0.03483414649963379\n",
            "epoch: 1, batch_idx: 0, loss: 0.03123641014099121\n",
            "epoch: 2, batch_idx: 0, loss: 0.027510514482855797\n"
          ]
        },
        {
          "output_type": "display_data",
          "data": {
            "text/plain": [
              "<Figure size 640x480 with 1 Axes>"
            ],
            "image/png": "[encoded data removed]"
          },
          "metadata": {}
        }
      ]
    },
    {
      "cell_type": "code",
      "source": [
        "total_correct = 0\n",
        "for x,y in test_loader:\n",
        "    x  = x.reshape(x.size(0), 28*28)\n",
        "    out = network(x)\n",
        "    # out: [b, 10] => pred: [b]\n",
        "    pred = out.argmax(dim=1)\n",
        "    correct = pred.eq(y).sum().float().item()\n",
        "    total_correct += correct\n",
        "\n",
        "total_num = len(test_loader.dataset)\n",
        "acc = total_correct / total_num\n",
        "print('test acc:', acc)\n",
        "\n",
        "x, y = next(iter(test_loader))\n",
        "out = network(x.view(x.size(0), 28*28))\n",
        "pred = out.argmax(dim=1)\n",
        "plot_image(x, pred, 'test')"
      ],
      "metadata": {
        "colab": {
          "base_uri": "https://localhost:8080/",
          "height": 456
        },
        "id": "kPhi3Ky_DyM9",
        "outputId": "344c8c10-3cde-4d73-cc31-6b8f898db443"
      },
      "execution_count": 18,
      "outputs": [
        {
          "output_type": "stream",
          "name": "stdout",
          "text": [
            "test acc: 0.914\n"
          ]
        },
        {
          "output_type": "display_data",
          "data": {
            "text/plain": [
              "<Figure size 640x480 with 6 Axes>"
            ],
            "image/png": "[encoded data removed]"
          },
          "metadata": {}
        }
      ]
    }
  ]
}