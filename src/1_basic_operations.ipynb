{
  "nbformat": 4,
  "nbformat_minor": 0,
  "metadata": {
    "colab": {
      "provenance": []
    },
    "kernelspec": {
      "name": "python3",
      "display_name": "Python 3"
    },
    "language_info": {
      "name": "python"
    }
  },
  "cells": [
    {
      "cell_type": "markdown",
      "source": [
        "GPU is not mandatory for these basic operations"
      ],
      "metadata": {
        "id": "Q-mwk7nIW2KK"
      }
    },
    {
      "cell_type": "code",
      "source": [
        "import numpy as np\n",
        "import torch"
      ],
      "metadata": {
        "id": "q93KSHszXcqw"
      },
      "execution_count": 1,
      "outputs": []
    },
    {
      "cell_type": "markdown",
      "source": [
        "## numpy basic"
      ],
      "metadata": {
        "id": "E86azNLQdp56"
      }
    },
    {
      "cell_type": "code",
      "source": [
        "## TO BE COMPLETED"
      ],
      "metadata": {
        "id": "4o0b6m2NdlZ0"
      },
      "execution_count": 2,
      "outputs": []
    },
    {
      "cell_type": "markdown",
      "source": [
        "## pytorch basic"
      ],
      "metadata": {
        "id": "FHyPmsmddxkU"
      }
    },
    {
      "cell_type": "code",
      "source": [
        "x = torch.empty(5,4)\n",
        "y = torch.rand(5,4)\n",
        "print(f\"The value of x: \\n{x} \\nThe value of y: \\n{y}\")\n",
        "# There is no dtype displayed, meaning the dtype is the default type."
      ],
      "metadata": {
        "colab": {
          "base_uri": "https://localhost:8080/"
        },
        "id": "AGiDTf_MXhh_",
        "outputId": "27490db5-e111-44b6-91b6-d97d187860da"
      },
      "execution_count": 3,
      "outputs": [
        {
          "output_type": "stream",
          "name": "stdout",
          "text": [
            "The value of x: \n",
            "tensor([[ 1.6381e-42,  1.0141e+31, -3.4111e-38,  3.0702e-41],\n",
            "        [ 1.6816e-44,  7.2714e+31, -3.4110e-38,  3.0702e-41],\n",
            "        [ 1.6367e-42,  0.0000e+00, -3.4111e-38,  3.0702e-41],\n",
            "        [ 1.6816e-44,  8.0533e-42, -3.4111e-38,  3.0702e-41],\n",
            "        [ 1.6479e-42, -4.4257e-19, -3.4112e-38,  3.0702e-41]]) \n",
            "The value of y: \n",
            "tensor([[0.7550, 0.0330, 0.7722, 0.9595],\n",
            "        [0.3703, 0.8375, 0.8398, 0.8110],\n",
            "        [0.4777, 0.3329, 0.0829, 0.7412],\n",
            "        [0.6782, 0.0648, 0.4949, 0.2766],\n",
            "        [0.6909, 0.3150, 0.3087, 0.8144]])\n"
          ]
        }
      ]
    },
    {
      "cell_type": "code",
      "source": [
        "torch.get_default_dtype()\n",
        "# torch.set_default_dtype(torch.float64).\n",
        "# Other frequently used dtypes include: float(float32), double(float64), int(int32), long(int64)."
      ],
      "metadata": {
        "colab": {
          "base_uri": "https://localhost:8080/"
        },
        "id": "OggKL7OGYv0V",
        "outputId": "cb72629b-5af4-497a-fc97-ddcb99fd592a"
      },
      "execution_count": 4,
      "outputs": [
        {
          "output_type": "execute_result",
          "data": {
            "text/plain": [
              "torch.float32"
            ]
          },
          "metadata": {},
          "execution_count": 4
        }
      ]
    },
    {
      "cell_type": "code",
      "source": [
        "x = torch.rand(5,3)\n",
        "y = torch.randn(5,3)\n",
        "print(f\"{x}\\n{y}\")\n",
        "# rand() returns a tensor filled with random numbers from a uniform distribution on the interval [0,1).\n",
        "# randn() returns ..... from a normal distribution with mean 0 and variance 1."
      ],
      "metadata": {
        "colab": {
          "base_uri": "https://localhost:8080/"
        },
        "id": "ZAOQeJ8Co_G3",
        "outputId": "6e7c2657-da29-4487-8429-2a62cae307f5"
      },
      "execution_count": 5,
      "outputs": [
        {
          "output_type": "stream",
          "name": "stdout",
          "text": [
            "tensor([[0.9441, 0.1776, 0.0830],\n",
            "        [0.9816, 0.4427, 0.8612],\n",
            "        [0.2543, 0.0445, 0.1895],\n",
            "        [0.4997, 0.4137, 0.7272],\n",
            "        [0.6192, 0.4530, 0.6524]])\n",
            "tensor([[-1.2967,  0.4489, -0.5985],\n",
            "        [-0.8963, -0.0285,  1.4822],\n",
            "        [ 0.3001,  0.5019,  0.1306],\n",
            "        [ 1.5064, -0.2875,  0.6730],\n",
            "        [-0.6206,  0.2029,  0.4886]])\n"
          ]
        }
      ]
    },
    {
      "cell_type": "code",
      "source": [
        "x = torch.ones(3, dtype=torch.double)\n",
        "x"
      ],
      "metadata": {
        "colab": {
          "base_uri": "https://localhost:8080/"
        },
        "id": "B5lJOczDyWFV",
        "outputId": "2536f6bb-d3cc-4183-dabe-6da566993bef"
      },
      "execution_count": 6,
      "outputs": [
        {
          "output_type": "execute_result",
          "data": {
            "text/plain": [
              "tensor([1., 1., 1.], dtype=torch.float64)"
            ]
          },
          "metadata": {},
          "execution_count": 6
        }
      ]
    },
    {
      "cell_type": "code",
      "source": [
        "x = torch.ones(4,6, dtype=torch.double)\n",
        "x"
      ],
      "metadata": {
        "id": "SoQRwCvEcBa_",
        "colab": {
          "base_uri": "https://localhost:8080/"
        },
        "outputId": "51f6eb77-0c99-408a-c2f7-bd58c580aa3c"
      },
      "execution_count": 7,
      "outputs": [
        {
          "output_type": "execute_result",
          "data": {
            "text/plain": [
              "tensor([[1., 1., 1., 1., 1., 1.],\n",
              "        [1., 1., 1., 1., 1., 1.],\n",
              "        [1., 1., 1., 1., 1., 1.],\n",
              "        [1., 1., 1., 1., 1., 1.]], dtype=torch.float64)"
            ]
          },
          "metadata": {},
          "execution_count": 7
        }
      ]
    },
    {
      "cell_type": "code",
      "source": [
        "x = torch.randn_like(x, dtype=torch.float)\n",
        "x"
      ],
      "metadata": {
        "colab": {
          "base_uri": "https://localhost:8080/"
        },
        "id": "9oPIEsA8iVn5",
        "outputId": "b16145bf-17a5-4e29-b3a1-42a3e22217de"
      },
      "execution_count": 8,
      "outputs": [
        {
          "output_type": "execute_result",
          "data": {
            "text/plain": [
              "tensor([[ 1.3377, -1.8835, -0.2360,  0.7680, -0.1798, -2.3429],\n",
              "        [ 0.4253, -3.1057, -0.6039,  0.5638,  0.6197,  0.0444],\n",
              "        [-1.2050, -2.4951, -0.9874,  0.0374,  1.0409,  0.2464],\n",
              "        [ 1.9877, -0.6088, -0.7522,  1.4917,  0.3998, -0.5291]])"
            ]
          },
          "metadata": {},
          "execution_count": 8
        }
      ]
    },
    {
      "cell_type": "code",
      "source": [
        "x.size()\n",
        "# A little bit different in np."
      ],
      "metadata": {
        "id": "6MLy43NKf0BL",
        "colab": {
          "base_uri": "https://localhost:8080/"
        },
        "outputId": "80d7a3b7-d5a2-473c-b658-05c3bef952db"
      },
      "execution_count": 9,
      "outputs": [
        {
          "output_type": "execute_result",
          "data": {
            "text/plain": [
              "torch.Size([4, 6])"
            ]
          },
          "metadata": {},
          "execution_count": 9
        }
      ]
    },
    {
      "cell_type": "code",
      "source": [
        "# Again, dtype of x is the default one, so it's not displayed.\n",
        "x.dtype"
      ],
      "metadata": {
        "colab": {
          "base_uri": "https://localhost:8080/"
        },
        "id": "Xu6HZ2OIil2w",
        "outputId": "fdcf72f3-1b7a-4415-e077-91cea1df49dd"
      },
      "execution_count": 10,
      "outputs": [
        {
          "output_type": "execute_result",
          "data": {
            "text/plain": [
              "torch.float32"
            ]
          },
          "metadata": {},
          "execution_count": 10
        }
      ]
    },
    {
      "cell_type": "code",
      "source": [
        "x = torch.randn(4, 4)\n",
        "# Reshape original tensor\n",
        "y = x.view(16)\n",
        "z = x.view(-1, 8)\n",
        "print(x.size(), y.size(), z.size())"
      ],
      "metadata": {
        "colab": {
          "base_uri": "https://localhost:8080/"
        },
        "id": "z29Ynul-nvFw",
        "outputId": "39ae5222-eb0f-4685-8c2a-919ee0cc0290"
      },
      "execution_count": 11,
      "outputs": [
        {
          "output_type": "stream",
          "name": "stdout",
          "text": [
            "torch.Size([4, 4]) torch.Size([16]) torch.Size([2, 8])\n"
          ]
        }
      ]
    },
    {
      "cell_type": "markdown",
      "source": [
        "## Conversion between np and torch"
      ],
      "metadata": {
        "id": "OQ9RCZKOKgY-"
      }
    },
    {
      "cell_type": "code",
      "source": [
        "a = torch.ones(5)\n",
        "b = a.numpy()\n",
        "b"
      ],
      "metadata": {
        "colab": {
          "base_uri": "https://localhost:8080/"
        },
        "id": "GPPk65dem8aC",
        "outputId": "13b55f79-8b3f-466d-ab8c-13fad47f54ff"
      },
      "execution_count": 12,
      "outputs": [
        {
          "output_type": "execute_result",
          "data": {
            "text/plain": [
              "array([1., 1., 1., 1., 1.], dtype=float32)"
            ]
          },
          "metadata": {},
          "execution_count": 12
        }
      ]
    },
    {
      "cell_type": "code",
      "source": [
        "a = np.ones(5)\n",
        "b = torch.from_numpy(a)\n",
        "b\n",
        "# hmmmm... Seems like the default dtype in np is long(float64)"
      ],
      "metadata": {
        "colab": {
          "base_uri": "https://localhost:8080/"
        },
        "id": "dxaA9o69Kquk",
        "outputId": "10bf4d66-0501-4387-ebee-11100c56893c"
      },
      "execution_count": 13,
      "outputs": [
        {
          "output_type": "execute_result",
          "data": {
            "text/plain": [
              "tensor([1., 1., 1., 1., 1.], dtype=torch.float64)"
            ]
          },
          "metadata": {},
          "execution_count": 13
        }
      ]
    },
    {
      "cell_type": "markdown",
      "source": [
        "## Types of tensor"
      ],
      "metadata": {
        "id": "UoUT7e9sPwZe"
      }
    },
    {
      "cell_type": "markdown",
      "source": [
        "* dim = 0 --> scalar\n",
        "* dim = 1 --> vector\n",
        "* dim = 2 --> matrix\n",
        "* dim >= 3 --> n-dimensional tensor\n",
        "\n"
      ],
      "metadata": {
        "id": "0Trh52vmP2Aj"
      }
    },
    {
      "cell_type": "markdown",
      "source": [
        "### Scalar"
      ],
      "metadata": {
        "id": "nY-xOPJnQU9C"
      }
    },
    {
      "cell_type": "code",
      "source": [
        "# interesting details\n",
        "x = torch.tensor(30)\n",
        "y = torch.tensor(30.)\n",
        "z = torch.tensor(30, dtype=torch.int)"
      ],
      "metadata": {
        "id": "guJyzaXaPv85"
      },
      "execution_count": 14,
      "outputs": []
    },
    {
      "cell_type": "code",
      "source": [
        "# why interesting? let's check their dtype!\n",
        "print(f\"The dtype of x: {x.dtype}, y: {y.dtype}, z: {z.dtype}\")"
      ],
      "metadata": {
        "colab": {
          "base_uri": "https://localhost:8080/"
        },
        "id": "b_7Y0_GiQZBM",
        "outputId": "92710439-e55d-418f-f3ed-46b54f39a884"
      },
      "execution_count": 15,
      "outputs": [
        {
          "output_type": "stream",
          "name": "stdout",
          "text": [
            "The dtype of x: torch.int64, y: torch.float32, z: torch.int32\n"
          ]
        }
      ]
    },
    {
      "cell_type": "code",
      "source": [
        "# type conversion\n",
        "x = x.type(torch.float)\n",
        "x.dtype"
      ],
      "metadata": {
        "colab": {
          "base_uri": "https://localhost:8080/"
        },
        "id": "lWPY5t9_QuIh",
        "outputId": "5bd197eb-4b95-4dfe-c49b-45deea0bd3a5"
      },
      "execution_count": 16,
      "outputs": [
        {
          "output_type": "execute_result",
          "data": {
            "text/plain": [
              "torch.float32"
            ]
          },
          "metadata": {},
          "execution_count": 16
        }
      ]
    },
    {
      "cell_type": "code",
      "source": [
        "x.dim()"
      ],
      "metadata": {
        "colab": {
          "base_uri": "https://localhost:8080/"
        },
        "id": "JsNayV2uR1e4",
        "outputId": "e80972ca-3aa9-4fe5-8345-5022f9a79dcb"
      },
      "execution_count": 17,
      "outputs": [
        {
          "output_type": "execute_result",
          "data": {
            "text/plain": [
              "0"
            ]
          },
          "metadata": {},
          "execution_count": 17
        }
      ]
    },
    {
      "cell_type": "code",
      "source": [
        "x"
      ],
      "metadata": {
        "colab": {
          "base_uri": "https://localhost:8080/"
        },
        "id": "afsYO0FRW9Oe",
        "outputId": "e8089b1a-845c-4828-87be-eaebfd5103fc"
      },
      "execution_count": 18,
      "outputs": [
        {
          "output_type": "execute_result",
          "data": {
            "text/plain": [
              "tensor(30.)"
            ]
          },
          "metadata": {},
          "execution_count": 18
        }
      ]
    },
    {
      "cell_type": "code",
      "source": [
        "# Returns the value of this tensor as a standard Python number. This only works for tensors with one element.\n",
        "# For more than one element, use tolist()\n",
        "x.item()"
      ],
      "metadata": {
        "colab": {
          "base_uri": "https://localhost:8080/"
        },
        "id": "wzLA2zXdXI_B",
        "outputId": "5781cf40-7818-4066-8518-68b5a64003da"
      },
      "execution_count": 19,
      "outputs": [
        {
          "output_type": "execute_result",
          "data": {
            "text/plain": [
              "30.0"
            ]
          },
          "metadata": {},
          "execution_count": 19
        }
      ]
    },
    {
      "cell_type": "markdown",
      "source": [
        "### Vector"
      ],
      "metadata": {
        "id": "xtvI7YdRyYzm"
      }
    },
    {
      "cell_type": "code",
      "source": [
        "# Can treat this as the feature of one data. Eg. the word embedding of 'hello'.\n",
        "v = torch.tensor([1.5, -0.5, 3.0])\n",
        "v"
      ],
      "metadata": {
        "colab": {
          "base_uri": "https://localhost:8080/"
        },
        "id": "nl1J03MqyENu",
        "outputId": "a054a59d-3918-4912-b2da-ca320bea9104"
      },
      "execution_count": 20,
      "outputs": [
        {
          "output_type": "execute_result",
          "data": {
            "text/plain": [
              "tensor([ 1.5000, -0.5000,  3.0000])"
            ]
          },
          "metadata": {},
          "execution_count": 20
        }
      ]
    },
    {
      "cell_type": "code",
      "source": [
        "v.dim()"
      ],
      "metadata": {
        "colab": {
          "base_uri": "https://localhost:8080/"
        },
        "id": "uklJ_eO2yexi",
        "outputId": "1b545c4f-1bca-4ade-f9fa-177540f0fd4e"
      },
      "execution_count": 21,
      "outputs": [
        {
          "output_type": "execute_result",
          "data": {
            "text/plain": [
              "1"
            ]
          },
          "metadata": {},
          "execution_count": 21
        }
      ]
    },
    {
      "cell_type": "code",
      "source": [
        "v.size()"
      ],
      "metadata": {
        "colab": {
          "base_uri": "https://localhost:8080/"
        },
        "id": "Pmw8cfwkylOC",
        "outputId": "f882d29b-6e75-4caf-8fac-63b8d00ff9af"
      },
      "execution_count": 22,
      "outputs": [
        {
          "output_type": "execute_result",
          "data": {
            "text/plain": [
              "torch.Size([3])"
            ]
          },
          "metadata": {},
          "execution_count": 22
        }
      ]
    },
    {
      "cell_type": "code",
      "source": [
        "# here cannot use item(). item() is only used for scalar.\n",
        "v.tolist()"
      ],
      "metadata": {
        "colab": {
          "base_uri": "https://localhost:8080/"
        },
        "id": "I1skVyMblAUf",
        "outputId": "d32f5ba0-2ade-4ff0-c241-0ba398c37cb8"
      },
      "execution_count": 23,
      "outputs": [
        {
          "output_type": "execute_result",
          "data": {
            "text/plain": [
              "[1.5, -0.5, 3.0]"
            ]
          },
          "metadata": {},
          "execution_count": 23
        }
      ]
    },
    {
      "cell_type": "markdown",
      "source": [
        "### Matrix"
      ],
      "metadata": {
        "id": "xbHVzgssy4BZ"
      }
    },
    {
      "cell_type": "code",
      "source": [
        "# can be treated as a 2D image, or a series of data Eg. the embedding of 'hello' and 'bye'.\n",
        "M = torch.tensor([[1., 2.], [3., 4.]])\n",
        "M"
      ],
      "metadata": {
        "colab": {
          "base_uri": "https://localhost:8080/"
        },
        "id": "G9M-vpnpym3f",
        "outputId": "d171e576-6fe8-459b-bc24-70698b4a7799"
      },
      "execution_count": 24,
      "outputs": [
        {
          "output_type": "execute_result",
          "data": {
            "text/plain": [
              "tensor([[1., 2.],\n",
              "        [3., 4.]])"
            ]
          },
          "metadata": {},
          "execution_count": 24
        }
      ]
    },
    {
      "cell_type": "code",
      "source": [
        "# Frequently used operations:\n",
        "# TO BE COMPLETED"
      ],
      "metadata": {
        "id": "0T9zZEtDzENR"
      },
      "execution_count": 25,
      "outputs": []
    }
  ]
}