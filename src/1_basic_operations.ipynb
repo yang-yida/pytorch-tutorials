{
  "nbformat": 4,
  "nbformat_minor": 0,
  "metadata": {
    "colab": {
      "provenance": []
    },
    "kernelspec": {
      "name": "python3",
      "display_name": "Python 3"
    },
    "language_info": {
      "name": "python"
    }
  },
  "cells": [
    {
      "cell_type": "markdown",
      "source": [
        "GPU is not mandatory for these basic operations"
      ],
      "metadata": {
        "id": "Q-mwk7nIW2KK"
      }
    },
    {
      "cell_type": "code",
      "source": [
        "import numpy as np\n",
        "import torch"
      ],
      "metadata": {
        "id": "q93KSHszXcqw"
      },
      "execution_count": 1,
      "outputs": []
    },
    {
      "cell_type": "markdown",
      "source": [
        "## numpy basic"
      ],
      "metadata": {
        "id": "E86azNLQdp56"
      }
    },
    {
      "cell_type": "code",
      "source": [
        "## TO BE COMPLETED"
      ],
      "metadata": {
        "id": "4o0b6m2NdlZ0"
      },
      "execution_count": 2,
      "outputs": []
    },
    {
      "cell_type": "markdown",
      "source": [
        "## pytorch basic"
      ],
      "metadata": {
        "id": "FHyPmsmddxkU"
      }
    },
    {
      "cell_type": "code",
      "source": [
        "x = torch.empty(5,4)\n",
        "y = torch.rand(5,4)\n",
        "print(f\"The value of x: \\n{x} \\nThe value of y: \\n{y}\")\n",
        "# There is no dtype displayed, meaning the dtype is the default type."
      ],
      "metadata": {
        "colab": {
          "base_uri": "https://localhost:8080/"
        },
        "id": "AGiDTf_MXhh_",
        "outputId": "06992d0e-58a1-4a7b-841b-d733391fa23c"
      },
      "execution_count": 3,
      "outputs": [
        {
          "output_type": "stream",
          "name": "stdout",
          "text": [
            "The value of x: \n",
            "tensor([[1.6816e-44, 6.5650e+28, 1.1494e+21, 3.1486e-41],\n",
            "        [1.6367e-42, 7.9311e+34, 1.1495e+21, 3.1486e-41],\n",
            "        [1.6816e-44, 7.3975e+20, 1.1495e+21, 3.1486e-41],\n",
            "        [1.6479e-42, 1.9603e-19, 1.1495e+21, 3.1486e-41],\n",
            "        [2.2421e-44, 8.3856e-33, 0.0000e+00, 0.0000e+00]]) \n",
            "The value of y: \n",
            "tensor([[0.5849, 0.8643, 0.1645, 0.7744],\n",
            "        [0.0140, 0.6649, 0.2596, 0.4887],\n",
            "        [0.3611, 0.9237, 0.1337, 0.1028],\n",
            "        [0.3316, 0.3511, 0.8402, 0.6044],\n",
            "        [0.6118, 0.7639, 0.9137, 0.0073]])\n"
          ]
        }
      ]
    },
    {
      "cell_type": "code",
      "source": [
        "torch.get_default_dtype()\n",
        "# torch.set_default_dtype(torch.float64).\n",
        "# Other frequently used dtypes include: float(float32), double(float64), int(int32), long(int64)."
      ],
      "metadata": {
        "colab": {
          "base_uri": "https://localhost:8080/"
        },
        "id": "OggKL7OGYv0V",
        "outputId": "b3978496-a810-4fbd-820e-8ec1ae428c66"
      },
      "execution_count": 4,
      "outputs": [
        {
          "output_type": "execute_result",
          "data": {
            "text/plain": [
              "torch.float32"
            ]
          },
          "metadata": {},
          "execution_count": 4
        }
      ]
    },
    {
      "cell_type": "code",
      "source": [
        "x = torch.rand(5,3)\n",
        "y = torch.randn(5,3)\n",
        "print(f\"{x}\\n{y}\")\n",
        "# rand() returns a tensor filled with random numbers from a uniform distribution on the interval [0,1).\n",
        "# randn() returns ..... from a normal distribution with mean 0 and variance 1."
      ],
      "metadata": {
        "colab": {
          "base_uri": "https://localhost:8080/"
        },
        "id": "ZAOQeJ8Co_G3",
        "outputId": "cdb5ee91-22fa-443d-d961-0a60b0d89ae6"
      },
      "execution_count": 5,
      "outputs": [
        {
          "output_type": "stream",
          "name": "stdout",
          "text": [
            "tensor([[0.4391, 0.4834, 0.1794],\n",
            "        [0.1733, 0.4383, 0.5415],\n",
            "        [0.7768, 0.0784, 0.1916],\n",
            "        [0.9708, 0.8035, 0.6229],\n",
            "        [0.2296, 0.2791, 0.7258]])\n",
            "tensor([[ 0.5605,  0.9475, -1.3042],\n",
            "        [ 0.6637,  1.1219, -0.4261],\n",
            "        [-2.1299, -1.6804,  1.8108],\n",
            "        [-0.1365,  1.1169,  0.5585],\n",
            "        [-0.3357,  0.0447,  0.2542]])\n"
          ]
        }
      ]
    },
    {
      "cell_type": "code",
      "source": [
        "x = torch.ones(3, dtype=torch.double)\n",
        "x"
      ],
      "metadata": {
        "colab": {
          "base_uri": "https://localhost:8080/"
        },
        "id": "B5lJOczDyWFV",
        "outputId": "393e7014-8091-4ecf-a67d-6ec66e0b41d3"
      },
      "execution_count": 6,
      "outputs": [
        {
          "output_type": "execute_result",
          "data": {
            "text/plain": [
              "tensor([1., 1., 1.], dtype=torch.float64)"
            ]
          },
          "metadata": {},
          "execution_count": 6
        }
      ]
    },
    {
      "cell_type": "code",
      "source": [
        "x = torch.ones(4,6, dtype=torch.double)\n",
        "x"
      ],
      "metadata": {
        "id": "SoQRwCvEcBa_",
        "colab": {
          "base_uri": "https://localhost:8080/"
        },
        "outputId": "ced6b8c2-b643-4b89-b5dc-d697ab925909"
      },
      "execution_count": 7,
      "outputs": [
        {
          "output_type": "execute_result",
          "data": {
            "text/plain": [
              "tensor([[1., 1., 1., 1., 1., 1.],\n",
              "        [1., 1., 1., 1., 1., 1.],\n",
              "        [1., 1., 1., 1., 1., 1.],\n",
              "        [1., 1., 1., 1., 1., 1.]], dtype=torch.float64)"
            ]
          },
          "metadata": {},
          "execution_count": 7
        }
      ]
    },
    {
      "cell_type": "code",
      "source": [
        "x = torch.randn_like(x, dtype=torch.float)\n",
        "x"
      ],
      "metadata": {
        "colab": {
          "base_uri": "https://localhost:8080/"
        },
        "id": "9oPIEsA8iVn5",
        "outputId": "5fc7ae91-88ea-4f6a-8192-906e194b7c46"
      },
      "execution_count": 8,
      "outputs": [
        {
          "output_type": "execute_result",
          "data": {
            "text/plain": [
              "tensor([[-0.8787, -1.3302, -0.5055,  1.7225, -0.0877, -0.4710],\n",
              "        [ 0.9442,  1.0059, -0.2730,  2.7424,  0.1473, -0.7858],\n",
              "        [ 1.2892, -0.8139, -0.8446, -0.7798,  0.1715,  0.4134],\n",
              "        [ 0.1211, -0.8572, -0.1017,  1.3049, -1.1889, -2.5047]])"
            ]
          },
          "metadata": {},
          "execution_count": 8
        }
      ]
    },
    {
      "cell_type": "code",
      "source": [
        "x.size()\n",
        "# A little bit different in np."
      ],
      "metadata": {
        "id": "6MLy43NKf0BL",
        "colab": {
          "base_uri": "https://localhost:8080/"
        },
        "outputId": "d8d3e4b3-70ea-42ea-c485-9acb1c978184"
      },
      "execution_count": 9,
      "outputs": [
        {
          "output_type": "execute_result",
          "data": {
            "text/plain": [
              "torch.Size([4, 6])"
            ]
          },
          "metadata": {},
          "execution_count": 9
        }
      ]
    },
    {
      "cell_type": "code",
      "source": [
        "# Again, dtype of x is the default one, so it's not displayed.\n",
        "x.dtype"
      ],
      "metadata": {
        "colab": {
          "base_uri": "https://localhost:8080/"
        },
        "id": "Xu6HZ2OIil2w",
        "outputId": "7aec4532-e63b-4541-a0f0-20482973751e"
      },
      "execution_count": 10,
      "outputs": [
        {
          "output_type": "execute_result",
          "data": {
            "text/plain": [
              "torch.float32"
            ]
          },
          "metadata": {},
          "execution_count": 10
        }
      ]
    },
    {
      "cell_type": "code",
      "source": [
        "x = torch.randn(4, 4)\n",
        "# Reshape original tensor\n",
        "y = x.view(16)\n",
        "z = x.view(-1, 8)\n",
        "print(x.size(), y.size(), z.size())"
      ],
      "metadata": {
        "colab": {
          "base_uri": "https://localhost:8080/"
        },
        "id": "z29Ynul-nvFw",
        "outputId": "3f4b254a-32fe-4b2a-c65a-09b85fb885df"
      },
      "execution_count": 11,
      "outputs": [
        {
          "output_type": "stream",
          "name": "stdout",
          "text": [
            "torch.Size([4, 4]) torch.Size([16]) torch.Size([2, 8])\n"
          ]
        }
      ]
    },
    {
      "cell_type": "markdown",
      "source": [
        "## Conversion between np and torch"
      ],
      "metadata": {
        "id": "OQ9RCZKOKgY-"
      }
    },
    {
      "cell_type": "code",
      "source": [
        "a = torch.ones(5)\n",
        "b = a.numpy()\n",
        "b"
      ],
      "metadata": {
        "colab": {
          "base_uri": "https://localhost:8080/"
        },
        "id": "GPPk65dem8aC",
        "outputId": "553e49b9-edda-4b79-e688-e1624b32e175"
      },
      "execution_count": 12,
      "outputs": [
        {
          "output_type": "execute_result",
          "data": {
            "text/plain": [
              "array([1., 1., 1., 1., 1.], dtype=float32)"
            ]
          },
          "metadata": {},
          "execution_count": 12
        }
      ]
    },
    {
      "cell_type": "code",
      "source": [
        "a = np.ones(5)\n",
        "b = torch.from_numpy(a)\n",
        "b\n",
        "# hmmmm... Seems like the default dtype in np is long(float64)"
      ],
      "metadata": {
        "colab": {
          "base_uri": "https://localhost:8080/"
        },
        "id": "dxaA9o69Kquk",
        "outputId": "c6220c9b-e397-4261-8364-b1dcc05aacdf"
      },
      "execution_count": 13,
      "outputs": [
        {
          "output_type": "execute_result",
          "data": {
            "text/plain": [
              "tensor([1., 1., 1., 1., 1.], dtype=torch.float64)"
            ]
          },
          "metadata": {},
          "execution_count": 13
        }
      ]
    }
  ]
}